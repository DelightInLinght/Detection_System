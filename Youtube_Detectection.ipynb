{
  "nbformat": 4,
  "nbformat_minor": 0,
  "metadata": {
    "colab": {
      "provenance": [],
      "gpuType": "T4",
      "authorship_tag": "ABX9TyMJ2O98z/CUsu6wiFC7bIan",
      "include_colab_link": true
    },
    "kernelspec": {
      "name": "python3",
      "display_name": "Python 3"
    },
    "language_info": {
      "name": "python"
    },
    "accelerator": "GPU"
  },
  "cells": [
    {
      "cell_type": "markdown",
      "metadata": {
        "id": "view-in-github",
        "colab_type": "text"
      },
      "source": [
        "<a href=\"https://colab.research.google.com/github/DelightInLinght/Project/blob/main/Youtube_Detectection.ipynb\" target=\"_parent\"><img src=\"https://colab.research.google.com/assets/colab-badge.svg\" alt=\"Open In Colab\"/></a>"
      ]
    },
    {
      "cell_type": "code",
      "execution_count": 1,
      "metadata": {
        "id": "vGVREbJr2FOB"
      },
      "outputs": [],
      "source": [
        "!mkdir -p ~/.kaggle\n",
        "!cp kaggle.json ~/.kaggle/"
      ]
    },
    {
      "cell_type": "code",
      "source": [
        "import tensorflow as tf\n",
        "import numpy as np\n",
        "import os\n",
        "import cv2\n",
        "import matplotlib.pyplot as plt\n",
        "from tensorflow.keras.preprocessing.image import ImageDataGenerator\n",
        "\n",
        "# Data augmentation (optional) to improve generalization\n",
        "train_datagen = ImageDataGenerator(rescale=1./255, shear_range=0.2, zoom_range=0.2, horizontal_flip=True)\n",
        "validation_datagen = ImageDataGenerator(rescale=1./255)\n",
        "\n",
        "# Prepare training and validation data generators\n",
        "train_generator = train_datagen.flow_from_directory(\n",
        "    r\"/content/Dataset/Train\",\n",
        "    target_size=(299, 299),  # Adjust for your model's input size\n",
        "    batch_size=64,  # Experiment with batch size\n",
        "    class_mode='binary'\n",
        ")\n",
        "validation_generator = validation_datagen.flow_from_directory(\n",
        "    r\"/content/Dataset/Valid\",\n",
        "    target_size=(299, 299),\n",
        "    batch_size=64,\n",
        "    class_mode='binary'\n",
        ")"
      ],
      "metadata": {
        "id": "MaQh8IQP-_19",
        "colab": {
          "base_uri": "https://localhost:8080/"
        },
        "outputId": "900e255a-aa89-4d53-b96e-07d686e30367"
      },
      "execution_count": 17,
      "outputs": [
        {
          "output_type": "stream",
          "name": "stdout",
          "text": [
            "Found 173760 images belonging to 2 classes.\n",
            "Found 28736 images belonging to 2 classes.\n"
          ]
        }
      ]
    },
    {
      "cell_type": "code",
      "source": [
        "from keras.layers import Input, Conv2D, MaxPooling2D, GlobalAveragePooling2D, Dense, Add, Dropout\n",
        "from keras.layers import Input, Dense, BatchNormalization\n",
        "from keras.models import Model\n",
        "from keras.applications import InceptionResNetV2\n",
        "\n",
        "# Input Layer\n",
        "input_layer = Input(shape=(299, 299, 3))\n",
        "\n",
        "# Inception Module\n",
        "base_model = InceptionResNetV2(weights='imagenet', include_top=False, input_tensor=input_layer)\n",
        "\n",
        "x = base_model.output\n",
        "x = GlobalAveragePooling2D()(x)\n",
        "x = Dense(64, activation='relu')(x)\n",
        "output_layer = Dense(1, activation='sigmoid')(x)\n",
        "\n",
        "# Model\n",
        "model = Model(inputs=input_layer, outputs=output_layer)\n",
        "\n",
        "# Compile the Model\n",
        "model.compile(optimizer='adam', loss='binary_crossentropy', metrics=['accuracy'])\n",
        "\n",
        "# Freeze the layers of the InceptionV3 base model\n",
        "for layer in base_model.layers:\n",
        "    layer.trainable = False\n"
      ],
      "metadata": {
        "id": "BWu2ov0gccy_"
      },
      "execution_count": 18,
      "outputs": []
    },
    {
      "source": [
        "from keras.utils import plot_model\n",
        "plot_model(model, to_file='model.png')"
      ],
      "cell_type": "code",
      "metadata": {
        "id": "qheKcZB9d5AN"
      },
      "execution_count": null,
      "outputs": []
    },
    {
      "cell_type": "code",
      "source": [
        "from tensorflow.keras.callbacks import EarlyStopping\n",
        "\n",
        "# Define the EarlyStopping callback\n",
        "early_stopping = EarlyStopping(monitor='val_loss', restore_best_weights=True)\n",
        "\n",
        "# Train the model with early stopping\n",
        "model.fit(\n",
        "    train_generator,\n",
        "    epochs=10,  # Adjust based on dataset size and validation performance\n",
        "    validation_data=validation_generator,\n",
        "    callbacks=[early_stopping]\n",
        ")\n",
        "model.save(\"Project.h5\")\n"
      ],
      "metadata": {
        "colab": {
          "base_uri": "https://localhost:8080/"
        },
        "id": "2cgmWlWtd6B_",
        "outputId": "0697c417-10c1-484e-bd19-cbc535081cee"
      },
      "execution_count": null,
      "outputs": [
        {
          "output_type": "stream",
          "name": "stdout",
          "text": [
            "Epoch 1/10\n"
          ]
        }
      ]
    },
    {
      "cell_type": "code",
      "source": [],
      "metadata": {
        "id": "-M0e-floejmP"
      },
      "execution_count": null,
      "outputs": []
    }
  ]
}